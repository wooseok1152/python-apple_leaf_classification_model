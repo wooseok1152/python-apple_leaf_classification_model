{
 "cells": [
  {
   "cell_type": "code",
   "execution_count": 1,
   "metadata": {},
   "outputs": [],
   "source": [
    "import tensorflow as tf\n",
    "from tensorflow.keras.preprocessing.image import ImageDataGenerator\n",
    "from tensorflow.keras.layers import Input\n",
    "from tensorflow.keras import layers, models\n",
    "from tensorflow.keras.models import load_model\n",
    "import os\n",
    "from PIL import Image"
   ]
  },
  {
   "cell_type": "code",
   "execution_count": 10,
   "metadata": {
    "scrolled": true
   },
   "outputs": [
    {
     "name": "stdout",
     "output_type": "stream",
     "text": [
      "Found 7771 images belonging to 4 classes.\n",
      "Found 1943 images belonging to 4 classes.\n"
     ]
    }
   ],
   "source": [
    "# 경로 설정\n",
    "path_train = r\"C:\\Users\\my\\Desktop\\new_plant_disease_dataset\\train\"\n",
    "path_valid = r\"C:\\Users\\my\\Desktop\\new_plant_disease_dataset\\valid\"\n",
    "\n",
    "# image_generator와 두 개의 iterator 생성\n",
    "image_generator = ImageDataGenerator(rescale=1./255)\n",
    "train_data_iterator = image_generator.flow_from_directory(path_train,target_size=(128,128),class_mode='categorical', batch_size = 20)\n",
    "valid_data_iterator = image_generator.flow_from_directory(path_valid,target_size=(128,128),class_mode='categorical', batch_size = 20)\n",
    "\n",
    "# 예측 함수 모델 선언\n",
    "model = models.Sequential()\n",
    "\n",
    "# 첫번째 convolutional process\n",
    "model.add(layers.Conv2D(32, (3, 3), input_shape = (128, 128, 3), activation = 'relu'))\n",
    "model.add(layers.MaxPooling2D(pool_size = (2, 2)))\n",
    "\n",
    "# 두 번째 convolutional process\n",
    "model.add(layers.Conv2D(32, (3, 3), activation = 'relu'))\n",
    "model.add(layers.MaxPooling2D(pool_size = (2, 2)))\n",
    "\n",
    "# 세 번째 convolutional process\n",
    "model.add(layers.Conv2D(32, (3, 3), activation = 'relu'))\n",
    "model.add(layers.MaxPooling2D(pool_size = (2, 2)))\n",
    "\n",
    "# fully connected part\n",
    "model.add(layers.Flatten())\n",
    "model.add(layers.Dense(128, activation = 'relu'))\n",
    "model.add(layers.Dropout(0.3))\n",
    "model.add(layers.Dense(4, activation = 'softmax'))\n",
    "\n",
    "# cost function 설정 및 optimizer 설정\n",
    "model.compile(loss='categorical_crossentropy', optimizer='adam', metrics=['accuracy'])"
   ]
  },
  {
   "cell_type": "code",
   "execution_count": 3,
   "metadata": {
    "scrolled": false
   },
   "outputs": [
    {
     "name": "stdout",
     "output_type": "stream",
     "text": [
      "WARNING:tensorflow:From <ipython-input-3-2bc69e3dcc49>:1: Model.fit_generator (from tensorflow.python.keras.engine.training) is deprecated and will be removed in a future version.\n",
      "Instructions for updating:\n",
      "Please use Model.fit, which supports generators.\n",
      "WARNING:tensorflow:sample_weight modes were coerced from\n",
      "  ...\n",
      "    to  \n",
      "  ['...']\n",
      "WARNING:tensorflow:sample_weight modes were coerced from\n",
      "  ...\n",
      "    to  \n",
      "  ['...']\n",
      "Train for 388 steps, validate for 97 steps\n",
      "Epoch 1/20\n",
      "388/388 [==============================] - 48s 123ms/step - loss: 0.5431 - accuracy: 0.7747 - val_loss: 0.2927 - val_accuracy: 0.8933\n",
      "Epoch 2/20\n",
      "388/388 [==============================] - 47s 121ms/step - loss: 0.2578 - accuracy: 0.9067 - val_loss: 0.1889 - val_accuracy: 0.9314\n",
      "Epoch 3/20\n",
      "388/388 [==============================] - 47s 121ms/step - loss: 0.1994 - accuracy: 0.9265 - val_loss: 0.1628 - val_accuracy: 0.9366\n",
      "Epoch 4/20\n",
      "388/388 [==============================] - 47s 121ms/step - loss: 0.1553 - accuracy: 0.9443 - val_loss: 0.2377 - val_accuracy: 0.8990\n",
      "Epoch 5/20\n",
      "388/388 [==============================] - 47s 122ms/step - loss: 0.1083 - accuracy: 0.9619 - val_loss: 0.1344 - val_accuracy: 0.9531\n",
      "Epoch 6/20\n",
      "388/388 [==============================] - 47s 121ms/step - loss: 0.1048 - accuracy: 0.9626 - val_loss: 0.1062 - val_accuracy: 0.9624\n",
      "Epoch 7/20\n",
      "388/388 [==============================] - 47s 121ms/step - loss: 0.0814 - accuracy: 0.9717 - val_loss: 0.1047 - val_accuracy: 0.9639\n",
      "Epoch 8/20\n",
      "388/388 [==============================] - 47s 122ms/step - loss: 0.0803 - accuracy: 0.9728 - val_loss: 0.1198 - val_accuracy: 0.9608\n",
      "Epoch 9/20\n",
      "388/388 [==============================] - 47s 121ms/step - loss: 0.0641 - accuracy: 0.9768 - val_loss: 0.0856 - val_accuracy: 0.9706\n",
      "Epoch 10/20\n",
      "388/388 [==============================] - 47s 120ms/step - loss: 0.0586 - accuracy: 0.9805 - val_loss: 0.1139 - val_accuracy: 0.9613\n",
      "Epoch 11/20\n",
      "388/388 [==============================] - 46s 120ms/step - loss: 0.0474 - accuracy: 0.9832 - val_loss: 0.0900 - val_accuracy: 0.9706\n",
      "Epoch 12/20\n",
      "388/388 [==============================] - 46s 120ms/step - loss: 0.0473 - accuracy: 0.9843 - val_loss: 0.1033 - val_accuracy: 0.9691\n",
      "Epoch 13/20\n",
      "388/388 [==============================] - 47s 120ms/step - loss: 0.0579 - accuracy: 0.9805 - val_loss: 0.0902 - val_accuracy: 0.9686\n",
      "Epoch 14/20\n",
      "388/388 [==============================] - 47s 120ms/step - loss: 0.0305 - accuracy: 0.9911 - val_loss: 0.0890 - val_accuracy: 0.9763\n",
      "Epoch 15/20\n",
      "388/388 [==============================] - 47s 120ms/step - loss: 0.0317 - accuracy: 0.9897 - val_loss: 0.0755 - val_accuracy: 0.9722\n",
      "Epoch 16/20\n",
      "388/388 [==============================] - 47s 120ms/step - loss: 0.0267 - accuracy: 0.9910 - val_loss: 0.0495 - val_accuracy: 0.9866\n",
      "Epoch 17/20\n",
      "388/388 [==============================] - 47s 120ms/step - loss: 0.0413 - accuracy: 0.9883 - val_loss: 0.0529 - val_accuracy: 0.9835\n",
      "Epoch 18/20\n",
      "388/388 [==============================] - 47s 121ms/step - loss: 0.0454 - accuracy: 0.9850 - val_loss: 0.0924 - val_accuracy: 0.9742\n",
      "Epoch 19/20\n",
      "388/388 [==============================] - 47s 122ms/step - loss: 0.0322 - accuracy: 0.9899 - val_loss: 0.0814 - val_accuracy: 0.9753\n",
      "Epoch 20/20\n",
      "388/388 [==============================] - 47s 122ms/step - loss: 0.0236 - accuracy: 0.9917 - val_loss: 0.0796 - val_accuracy: 0.9737\n"
     ]
    }
   ],
   "source": [
    "history1 = model.fit_generator(train_data_iterator, steps_per_epoch=388, validation_data=valid_data_iterator, validation_steps=97, epochs=20)\n",
    "\n",
    "# 학습시간이 대략 15분정도 걸렸기 때문에, 해당 예측 함수 모델을 저장함\n",
    "model.save('deeplearning_final_assignment.h5')"
   ]
  },
  {
   "cell_type": "code",
   "execution_count": 21,
   "metadata": {},
   "outputs": [
    {
     "name": "stdout",
     "output_type": "stream",
     "text": [
      "Found 2 images belonging to 4 classes.\n",
      "\n",
      "테스트 데이터 파일명 : ['healthy\\\\healthy1.jpg', 'healthy\\\\healthy2.jpg'] \n",
      "\n",
      "결과값(리스트)의 index에 대응되는 feature : {'Apple_scab': 0, 'Black_rot': 1, 'Cedar_apple_rust': 2, 'healthy': 3}\n"
     ]
    },
    {
     "data": {
      "text/plain": [
       "array([[0.012, 0.000, 0.961, 0.027],\n",
       "       [0.018, 0.000, 0.890, 0.092]], dtype=float32)"
      ]
     },
     "execution_count": 21,
     "metadata": {},
     "output_type": "execute_result"
    }
   ],
   "source": [
    "# 저장되어있는 예측 함수 모델을 불러옴\n",
    "model = load_model('deeplearning_final_assignment.h5')\n",
    "\n",
    "# predict에 따른 결과를 출력할 때, 출력된 확률들을 보기 좋게 만들도록 함(이 소스코드 때문에 확률들이 16진수로 표기되지 않음)\n",
    "np.set_printoptions(formatter={'float': lambda x: \"{0:0.3f}\".format(x)})\n",
    "\n",
    "# 경로 설정\n",
    "path_test = r\"C:\\Users\\my\\Desktop\\new_plant_disease_dataset\\test\"\n",
    "\n",
    "# test dataset에 대한 iterator 생성\n",
    "test_data_iterator = image_generator.flow_from_directory(path_test,target_size=(128,128),class_mode='categorical', batch_size = 1)\n",
    "\n",
    "# 예측 실시\n",
    "predict = model.predict_generator(test_data_iterator,steps = 2)\n",
    "print(\"\")\n",
    "print(\"테스트 데이터 파일명 :\", test_data_iterator.filenames, \"\\n\")\n",
    "print(\"결과값(리스트)의 index에 대응되는 feature :\", test_data_iterator.class_indices)\n",
    "predict"
   ]
  },
  {
   "cell_type": "markdown",
   "metadata": {},
   "source": [
    "# 이 밑으로 CNN 수정된 코드들"
   ]
  },
  {
   "cell_type": "code",
   "execution_count": 4,
   "metadata": {},
   "outputs": [],
   "source": [
    "#ImageGenerator 사용하지 않고 만든 모델\n",
    "\n",
    "# 기존 이미지들에 대해 리사이즈 실시\n",
    "import os\n",
    "from PIL import Image\n",
    "\n",
    "# train_x_list = []\n",
    "# train_y_list = []\n",
    "\n",
    "train_scab = os.listdir(\"C:/Users/my/Desktop/new_plant_disease_dataset/train/Apple___Apple_scab\")\n",
    "train_black_rot = os.listdir(\"C:/Users/my/Desktop/new_plant_disease_dataset/train/Apple___Black_rot\")\n",
    "train_cedar_apple_rust = os.listdir(\"C:/Users/my/Desktop/new_plant_disease_dataset/train/Apple___Cedar_apple_rust\")\n",
    "train_healthy= os.listdir(\"C:/Users/my/Desktop/new_plant_disease_dataset/train/Apple___healthy\")\n",
    "\n",
    "valid_scab = os.listdir(\"C:/Users/my/Desktop/new_plant_disease_dataset/valid/Apple___Apple_scab\")\n",
    "valid_black_rot = os.listdir(\"C:/Users/my/Desktop/new_plant_disease_dataset/valid/Apple___Black_rot\")\n",
    "valid_cedar_apple_rust = os.listdir(\"C:/Users/my/Desktop/new_plant_disease_dataset/valid/Apple___Cedar_apple_rust\")\n",
    "valid_healthy= os.listdir(\"C:/Users/my/Desktop/new_plant_disease_dataset/valid/Apple___healthy\")\n",
    "\n",
    "# for i in train_scab:\n",
    "#     image = Image.open(\"C:/Users/my/Desktop/new_plant_disease_dataset/train/Apple___Apple_scab/\"+i)\n",
    "#     resize = image.resize((128,128))\n",
    "#     resize.save(\"C:/Users/my/Desktop/new_plant_disease_dataset/train/Apple___Apple_scab/\"+i+\".jpg\")\n",
    "    \n",
    "# for i in train_black_rot:\n",
    "#     image = Image.open(\"C:/Users/my/Desktop/new_plant_disease_dataset/train/Apple___Black_rot/\"+i)\n",
    "#     resize = image.resize((128,128))\n",
    "#     resize.save(\"C:/Users/my/Desktop/new_plant_disease_dataset/train/Apple___Black_rot/\"+i+\".jpg\")\n",
    "\n",
    "# for i in train_cedar_apple_rust:\n",
    "#     image = Image.open(\"C:/Users/my/Desktop/new_plant_disease_dataset/train/Apple___Cedar_apple_rust/\"+i)\n",
    "#     resize = image.resize((128,128))\n",
    "#     resize.save(\"C:/Users/my/Desktop/new_plant_disease_dataset/train/Apple___Cedar_apple_rust/\"+i+\".jpg\")\n",
    "    \n",
    "# for i in train_healthy:\n",
    "#     image = Image.open(\"C:/Users/my/Desktop/new_plant_disease_dataset/train/Apple___healthy/\"+i)\n",
    "#     resize = image.resize((128,128))\n",
    "#     resize.save(\"C:/Users/my/Desktop/new_plant_disease_dataset/train/Apple___healthy/\"+i+\".jpg\")\n",
    "\n",
    "# for i in valid_scab:\n",
    "#     image = Image.open(\"C:/Users/my/Desktop/new_plant_disease_dataset/valid/Apple___Apple_scab/\"+i)\n",
    "#     resize = image.resize((128,128))\n",
    "#     resize.save(\"C:/Users/my/Desktop/new_plant_disease_dataset/valid/Apple___Apple_scab/\"+i+\".jpg\")\n",
    "    \n",
    "# for i in valid_black_rot:\n",
    "#     image = Image.open(\"C:/Users/my/Desktop/new_plant_disease_dataset/valid/Apple___Black_rot/\"+i)\n",
    "#     resize = image.resize((128,128))\n",
    "#     resize.save(\"C:/Users/my/Desktop/new_plant_disease_dataset/valid/Apple___Black_rot/\"+i+\".jpg\")\n",
    "\n",
    "# for i in valid_cedar_apple_rust:\n",
    "#     image = Image.open(\"C:/Users/my/Desktop/new_plant_disease_dataset/valid/Apple___Cedar_apple_rust/\"+i)\n",
    "#     resize = image.resize((128,128))\n",
    "#     resize.save(\"C:/Users/my/Desktop/new_plant_disease_dataset/valid/Apple___Cedar_apple_rust/\"+i+\".jpg\")\n",
    "\n",
    "# for i in valid_healthy:\n",
    "#     image = Image.open(\"C:/Users/my/Desktop/new_plant_disease_dataset/valid/Apple___healthy/\"+i)\n",
    "#     resize = image.resize((128,128))\n",
    "#     resize.save(\"C:/Users/my/Desktop/new_plant_disease_dataset/valid/Apple___healthy/\"+i+\".jpg\")\n",
    "    \n",
    "# # 필요없는 사진 삭제\n",
    "# for i in valid_healthy:\n",
    "#     image = Image.open(\"C:/Users/my/Desktop/new_plant_disease_dataset/valid/Apple___healthy/\"+i)\n",
    "#     image_matrix = np.array(image)\n",
    "#     if image_matrix[0].shape == (256, 3):\n",
    "#         os.remove(\"C:/Users/my/Desktop/new_plant_disease_dataset/valid/Apple___healthy/\"+i)\n",
    "\n",
    "\n"
   ]
  },
  {
   "cell_type": "code",
   "execution_count": 85,
   "metadata": {},
   "outputs": [
    {
     "name": "stdout",
     "output_type": "stream",
     "text": [
      "<class 'numpy.ndarray'>\n"
     ]
    }
   ],
   "source": [
    "# train_x_list와 train_y_list에 각각 이미지 행렬과 label을 append\n",
    "for i in range(len(train_healthy)):\n",
    "    train_y_list.append(3)\n",
    "\n",
    "\n",
    "for i in train_healthy:\n",
    "    image = Image.open(\"C:/Users/my/Desktop/new_plant_disease_dataset/train/Apple___healthy/\"+i)\n",
    "    image_numpy_array = np.array(image)\n",
    "    train_x_list.append(image_numpy_array)\n",
    "\n",
    "train_x_list = np.array(train_x_list)\n",
    "train_y_list = np.array(train_y_list)"
   ]
  },
  {
   "cell_type": "code",
   "execution_count": 87,
   "metadata": {},
   "outputs": [
    {
     "name": "stdout",
     "output_type": "stream",
     "text": [
      "7771\n"
     ]
    }
   ],
   "source": [
    "from tensorflow.keras.utils import to_categorical\n",
    "\n",
    "train_y_list_hot = to_categorical(train_y_list)"
   ]
  },
  {
   "cell_type": "code",
   "execution_count": null,
   "metadata": {},
   "outputs": [],
   "source": [
    "# valid_scab = os.listdir(\"C:/Users/my/Desktop/new_plant_disease_dataset/valid/Apple___Apple_scab\")\n",
    "# valid_black_rot = os.listdir(\"C:/Users/my/Desktop/new_plant_disease_dataset/valid/Apple___Black_rot\")\n",
    "# valid_cedar_apple_rust = os.listdir(\"C:/Users/my/Desktop/new_plant_disease_dataset/valid/Apple___Cedar_apple_rust\")\n",
    "# valid_healthy= os.listdir(\"C:/Users/my/Desktop/new_plant_disease_dataset/valid/Apple___healthy\")\n",
    "\n",
    "# # valid_x_list = []\n",
    "# # valid_y_list = []\n",
    "\n",
    "\n",
    "# # valid_x_list와 valid_y_list에 각각 이미지 행렬과 label을 append\n",
    "# for i in range(len(valid_healthy)):\n",
    "#     valid_y_list.append(3)\n",
    "    \n",
    "# for i in valid_healthy:\n",
    "#     image = Image.open(\"C:/Users/my/Desktop/new_plant_disease_dataset/valid/Apple___healthy/\"+i)\n",
    "#     image_numpy_array = np.array(image)\n",
    "# #     print(image_numpy_array[0])\n",
    "#     valid_x_list.append(image_numpy_array)\n",
    "\n",
    "# valid_x_list = np.array(valid_x_list)\n",
    "\n",
    "from tensorflow.keras.utils import to_categorical\n",
    "valid_y_list = np.array(valid_y_list)\n",
    "valid_y_list_hot = to_categorical(valid_y_list)"
   ]
  },
  {
   "cell_type": "code",
   "execution_count": 89,
   "metadata": {},
   "outputs": [
    {
     "name": "stdout",
     "output_type": "stream",
     "text": [
      "Train on 7771 samples\n",
      "Epoch 1/20\n",
      "7771/7771 [==============================] - 84s 11ms/sample - loss: 1.8851 - accuracy: 0.7367\n",
      "Epoch 2/20\n",
      "7771/7771 [==============================] - 85s 11ms/sample - loss: 0.3218 - accuracy: 0.8816\n",
      "Epoch 3/20\n",
      "7771/7771 [==============================] - 87s 11ms/sample - loss: 0.2259 - accuracy: 0.9188\n",
      "Epoch 4/20\n",
      "7771/7771 [==============================] - 88s 11ms/sample - loss: 0.1897 - accuracy: 0.9332\n",
      "Epoch 5/20\n",
      "7771/7771 [==============================] - 89s 11ms/sample - loss: 0.1634 - accuracy: 0.9414\n",
      "Epoch 6/20\n",
      "7771/7771 [==============================] - 84s 11ms/sample - loss: 0.1226 - accuracy: 0.9569\n",
      "Epoch 7/20\n",
      "7771/7771 [==============================] - 86s 11ms/sample - loss: 0.1011 - accuracy: 0.9656\n",
      "Epoch 8/20\n",
      "7771/7771 [==============================] - 86s 11ms/sample - loss: 0.1154 - accuracy: 0.9602\n",
      "Epoch 9/20\n",
      "7771/7771 [==============================] - 84s 11ms/sample - loss: 0.0987 - accuracy: 0.9645\n",
      "Epoch 10/20\n",
      "7771/7771 [==============================] - 83s 11ms/sample - loss: 0.1159 - accuracy: 0.9577\n",
      "Epoch 11/20\n",
      "7771/7771 [==============================] - 86s 11ms/sample - loss: 0.1008 - accuracy: 0.9647\n",
      "Epoch 12/20\n",
      "7771/7771 [==============================] - 84s 11ms/sample - loss: 0.1358 - accuracy: 0.9571\n",
      "Epoch 13/20\n",
      "7771/7771 [==============================] - 84s 11ms/sample - loss: 0.0760 - accuracy: 0.9740\n",
      "Epoch 14/20\n",
      "7771/7771 [==============================] - 86s 11ms/sample - loss: 0.0816 - accuracy: 0.9728\n",
      "Epoch 15/20\n",
      "7771/7771 [==============================] - 84s 11ms/sample - loss: 0.0444 - accuracy: 0.9846\n",
      "Epoch 16/20\n",
      "7771/7771 [==============================] - 84s 11ms/sample - loss: 0.0512 - accuracy: 0.9848\n",
      "Epoch 17/20\n",
      "7771/7771 [==============================] - 83s 11ms/sample - loss: 0.0642 - accuracy: 0.9793\n",
      "Epoch 18/20\n",
      "7771/7771 [==============================] - 91s 12ms/sample - loss: 0.0934 - accuracy: 0.9704\n",
      "Epoch 19/20\n",
      "7771/7771 [==============================] - 86s 11ms/sample - loss: 0.0932 - accuracy: 0.9708\n",
      "Epoch 20/20\n",
      "7771/7771 [==============================] - 85s 11ms/sample - loss: 0.0836 - accuracy: 0.9712\n"
     ]
    }
   ],
   "source": [
    "# 예측 함수 모델 선언\n",
    "model2 = models.Sequential()\n",
    "\n",
    "# 첫번째 convolutional process\n",
    "model2.add(layers.Conv2D(32, (3, 3), input_shape = (128, 128, 3), activation = 'relu'))\n",
    "model2.add(layers.MaxPooling2D(pool_size = (2, 2)))\n",
    "\n",
    "# 두 번째 convolutional process\n",
    "model2.add(layers.Conv2D(32, (3, 3), activation = 'relu'))\n",
    "model2.add(layers.MaxPooling2D(pool_size = (2, 2)))\n",
    "\n",
    "# 세 번째 convolutional process\n",
    "model2.add(layers.Conv2D(32, (3, 3), activation = 'relu'))\n",
    "model2.add(layers.MaxPooling2D(pool_size = (2, 2)))\n",
    "\n",
    "# fully connected part\n",
    "model2.add(layers.Flatten())\n",
    "model2.add(layers.Dense(128, activation = 'relu'))\n",
    "model2.add(layers.Dropout(0.3))\n",
    "model2.add(layers.Dense(4, activation = 'softmax'))\n",
    "\n",
    "# cost function 설정 및 optimizer 설정\n",
    "model2.compile(loss='categorical_crossentropy', optimizer='adam', metrics=['accuracy'])\n",
    "\n",
    "history2 = model2.fit(train_x_list, train_y_list_hot, epochs=20, verbose = 1)\n",
    "\n",
    "# 학습시간이 대략 15분정도 걸렸기 때문에, 해당 예측 함수 모델을 저장함\n",
    "model2.save('cnn_for_website.h5')"
   ]
  },
  {
   "cell_type": "code",
   "execution_count": 19,
   "metadata": {
    "scrolled": true
   },
   "outputs": [
    {
     "name": "stdout",
     "output_type": "stream",
     "text": [
      "['C:/Users/my/Desktop/new_plant_disease_dataset/_test/AppleCedarRust1.JPG', 'C:/Users/my/Desktop/new_plant_disease_dataset/_test/AppleCedarRust2.JPG', 'C:/Users/my/Desktop/new_plant_disease_dataset/_test/AppleCedarRust3.JPG', 'C:/Users/my/Desktop/new_plant_disease_dataset/_test/AppleCedarRust4.JPG', 'C:/Users/my/Desktop/new_plant_disease_dataset/_test/AppleScab1.JPG', 'C:/Users/my/Desktop/new_plant_disease_dataset/_test/AppleScab2.JPG', 'C:/Users/my/Desktop/new_plant_disease_dataset/_test/AppleScab3.JPG'] \n",
      "\n",
      "<PIL.Image.Image image mode=RGB size=128x128 at 0x13BF0931F28> \n",
      "\n",
      "[[[[132 128 129]\n",
      "   [136 132 133]\n",
      "   [121 117 118]\n",
      "   ...\n",
      "   [160 156 157]\n",
      "   [153 149 150]\n",
      "   [159 155 156]]\n",
      "\n",
      "  [[120 116 117]\n",
      "   [122 118 119]\n",
      "   [108 104 105]\n",
      "   ...\n",
      "   [154 150 151]\n",
      "   [153 149 150]\n",
      "   [153 149 150]]\n",
      "\n",
      "  [[107 103 104]\n",
      "   [109 105 106]\n",
      "   [130 126 127]\n",
      "   ...\n",
      "   [153 149 150]\n",
      "   [152 148 149]\n",
      "   [143 139 140]]\n",
      "\n",
      "  ...\n",
      "\n",
      "  [[142 137 133]\n",
      "   [141 136 132]\n",
      "   [145 140 136]\n",
      "   ...\n",
      "   [160 155 152]\n",
      "   [163 158 155]\n",
      "   [166 161 158]]\n",
      "\n",
      "  [[140 135 131]\n",
      "   [138 133 129]\n",
      "   [143 138 134]\n",
      "   ...\n",
      "   [161 156 153]\n",
      "   [163 158 155]\n",
      "   [165 160 157]]\n",
      "\n",
      "  [[138 133 129]\n",
      "   [134 129 125]\n",
      "   [143 138 134]\n",
      "   ...\n",
      "   [167 162 159]\n",
      "   [166 161 158]\n",
      "   [164 159 156]]]] \n",
      "\n",
      "(1, 128, 128, 3)\n"
     ]
    }
   ],
   "source": [
    "test = os.listdir(\"C:/Users/my/Desktop/new_plant_disease_dataset/_test\")\n",
    "test_image_list = []\n",
    "for i in test:\n",
    "    test_image_list.append(\"C:/Users/my/Desktop/new_plant_disease_dataset/_test/\" + i)\n",
    "print(test_image_list, \"\\n\")\n",
    "\n",
    "test_image = Image.open(test_image_list[1])\n",
    "test_image = test_image.resize((128, 128))\n",
    "print(test_image, \"\\n\")\n",
    "test_image_np_array = np.array(test_image)\n",
    "# print(test_image_np_array, \"\\n\")\n",
    "test_image_np_array = test_image_np_array.reshape(1, 128, 128, 3)\n",
    "print(test_image_np_array, \"\\n\")\n",
    "\n",
    "print(test_image_np_array.shape)"
   ]
  },
  {
   "cell_type": "code",
   "execution_count": 24,
   "metadata": {},
   "outputs": [
    {
     "name": "stdout",
     "output_type": "stream",
     "text": [
      "[0.0025913130957633257, 3.7535886804107577e-05, 0.9973496198654175, 2.151647822756786e-05]\n"
     ]
    }
   ],
   "source": [
    "model2 = load_model('cnn_for_website.h5')\n",
    "result = model2.predict(test_image_np_array)\n",
    "result = result.tolist()\n",
    "result = result[0]\n",
    "print(result)"
   ]
  },
  {
   "cell_type": "code",
   "execution_count": 25,
   "metadata": {},
   "outputs": [
    {
     "name": "stdout",
     "output_type": "stream",
     "text": [
      "cedar apple rust\n"
     ]
    }
   ],
   "source": [
    "if result.index(max(result)) == 0:\n",
    "    result = \"apple scab\"\n",
    "elif result.index(max(result)) == 1:\n",
    "    result = \"black rot\"\n",
    "elif result.index(max(result)) == 2:\n",
    "    result = \"cedar apple rust\"\n",
    "else:\n",
    "    result = \"healthy\"\n",
    "    \n",
    "print(result)\n"
   ]
  },
  {
   "cell_type": "code",
   "execution_count": null,
   "metadata": {},
   "outputs": [],
   "source": []
  }
 ],
 "metadata": {
  "kernelspec": {
   "display_name": "Python 3",
   "language": "python",
   "name": "python3"
  },
  "language_info": {
   "codemirror_mode": {
    "name": "ipython",
    "version": 3
   },
   "file_extension": ".py",
   "mimetype": "text/x-python",
   "name": "python",
   "nbconvert_exporter": "python",
   "pygments_lexer": "ipython3",
   "version": "3.7.1"
  }
 },
 "nbformat": 4,
 "nbformat_minor": 2
}
