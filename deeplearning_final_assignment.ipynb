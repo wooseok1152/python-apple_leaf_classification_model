{
 "cells": [
  {
   "cell_type": "code",
   "execution_count": 1,
   "metadata": {},
   "outputs": [],
   "source": [
    "import tensorflow as tf\n",
    "from tensorflow.keras.preprocessing.image import ImageDataGenerator\n",
    "from tensorflow.keras.layers import Input\n",
    "from tensorflow.keras import layers, models\n",
    "from tensorflow.keras.models import load_model\n",
    "import os\n",
    "from PIL import Image\n",
    "from keras.callbacks import EarlyStopping"
   ]
  },
  {
   "cell_type": "markdown",
   "metadata": {},
   "source": [
    "# generator를 사용한 모델"
   ]
  },
  {
   "cell_type": "code",
   "execution_count": 10,
   "metadata": {
    "scrolled": true
   },
   "outputs": [
    {
     "name": "stdout",
     "output_type": "stream",
     "text": [
      "Found 7771 images belonging to 4 classes.\n",
      "Found 1943 images belonging to 4 classes.\n"
     ]
    }
   ],
   "source": [
    "# 경로 설정\n",
    "path_train = r\".\\new_plant_disease_dataset\\train\"\n",
    "path_valid = r\".\\new_plant_disease_dataset\\valid\"\n",
    "\n",
    "# image_generator와 두 개의 iterator 생성\n",
    "image_generator = ImageDataGenerator(rescale=1./255)\n",
    "train_data_iterator = image_generator.flow_from_directory(path_train,target_size=(128,128),class_mode='categorical', batch_size = 20)\n",
    "valid_data_iterator = image_generator.flow_from_directory(path_valid,target_size=(128,128),class_mode='categorical', batch_size = 20)\n",
    "\n",
    "# 예측 함수 모델 선언\n",
    "model = models.Sequential()\n",
    "\n",
    "# 첫번째 convolutional process\n",
    "model.add(layers.Conv2D(32, (3, 3), input_shape = (128, 128, 3), activation = 'relu'))\n",
    "model.add(layers.MaxPooling2D(pool_size = (2, 2)))\n",
    "\n",
    "# 두 번째 convolutional process\n",
    "model.add(layers.Conv2D(32, (3, 3), activation = 'relu'))\n",
    "model.add(layers.MaxPooling2D(pool_size = (2, 2)))\n",
    "\n",
    "# 세 번째 convolutional process\n",
    "model.add(layers.Conv2D(32, (3, 3), activation = 'relu'))\n",
    "model.add(layers.MaxPooling2D(pool_size = (2, 2)))\n",
    "\n",
    "# fully connected part\n",
    "model.add(layers.Flatten())\n",
    "model.add(layers.Dense(128, activation = 'relu'))\n",
    "model.add(layers.Dropout(0.3))\n",
    "model.add(layers.Dense(4, activation = 'softmax'))\n",
    "\n",
    "# cost function 설정 및 optimizer 설정\n",
    "model.compile(loss='categorical_crossentropy', optimizer='adam', metrics=['accuracy'])"
   ]
  },
  {
   "cell_type": "code",
   "execution_count": 3,
   "metadata": {
    "scrolled": false
   },
   "outputs": [
    {
     "name": "stdout",
     "output_type": "stream",
     "text": [
      "WARNING:tensorflow:From <ipython-input-3-2bc69e3dcc49>:1: Model.fit_generator (from tensorflow.python.keras.engine.training) is deprecated and will be removed in a future version.\n",
      "Instructions for updating:\n",
      "Please use Model.fit, which supports generators.\n",
      "WARNING:tensorflow:sample_weight modes were coerced from\n",
      "  ...\n",
      "    to  \n",
      "  ['...']\n",
      "WARNING:tensorflow:sample_weight modes were coerced from\n",
      "  ...\n",
      "    to  \n",
      "  ['...']\n",
      "Train for 388 steps, validate for 97 steps\n",
      "Epoch 1/20\n",
      "388/388 [==============================] - 48s 123ms/step - loss: 0.5431 - accuracy: 0.7747 - val_loss: 0.2927 - val_accuracy: 0.8933\n",
      "Epoch 2/20\n",
      "388/388 [==============================] - 47s 121ms/step - loss: 0.2578 - accuracy: 0.9067 - val_loss: 0.1889 - val_accuracy: 0.9314\n",
      "Epoch 3/20\n",
      "388/388 [==============================] - 47s 121ms/step - loss: 0.1994 - accuracy: 0.9265 - val_loss: 0.1628 - val_accuracy: 0.9366\n",
      "Epoch 4/20\n",
      "388/388 [==============================] - 47s 121ms/step - loss: 0.1553 - accuracy: 0.9443 - val_loss: 0.2377 - val_accuracy: 0.8990\n",
      "Epoch 5/20\n",
      "388/388 [==============================] - 47s 122ms/step - loss: 0.1083 - accuracy: 0.9619 - val_loss: 0.1344 - val_accuracy: 0.9531\n",
      "Epoch 6/20\n",
      "388/388 [==============================] - 47s 121ms/step - loss: 0.1048 - accuracy: 0.9626 - val_loss: 0.1062 - val_accuracy: 0.9624\n",
      "Epoch 7/20\n",
      "388/388 [==============================] - 47s 121ms/step - loss: 0.0814 - accuracy: 0.9717 - val_loss: 0.1047 - val_accuracy: 0.9639\n",
      "Epoch 8/20\n",
      "388/388 [==============================] - 47s 122ms/step - loss: 0.0803 - accuracy: 0.9728 - val_loss: 0.1198 - val_accuracy: 0.9608\n",
      "Epoch 9/20\n",
      "388/388 [==============================] - 47s 121ms/step - loss: 0.0641 - accuracy: 0.9768 - val_loss: 0.0856 - val_accuracy: 0.9706\n",
      "Epoch 10/20\n",
      "388/388 [==============================] - 47s 120ms/step - loss: 0.0586 - accuracy: 0.9805 - val_loss: 0.1139 - val_accuracy: 0.9613\n",
      "Epoch 11/20\n",
      "388/388 [==============================] - 46s 120ms/step - loss: 0.0474 - accuracy: 0.9832 - val_loss: 0.0900 - val_accuracy: 0.9706\n",
      "Epoch 12/20\n",
      "388/388 [==============================] - 46s 120ms/step - loss: 0.0473 - accuracy: 0.9843 - val_loss: 0.1033 - val_accuracy: 0.9691\n",
      "Epoch 13/20\n",
      "388/388 [==============================] - 47s 120ms/step - loss: 0.0579 - accuracy: 0.9805 - val_loss: 0.0902 - val_accuracy: 0.9686\n",
      "Epoch 14/20\n",
      "388/388 [==============================] - 47s 120ms/step - loss: 0.0305 - accuracy: 0.9911 - val_loss: 0.0890 - val_accuracy: 0.9763\n",
      "Epoch 15/20\n",
      "388/388 [==============================] - 47s 120ms/step - loss: 0.0317 - accuracy: 0.9897 - val_loss: 0.0755 - val_accuracy: 0.9722\n",
      "Epoch 16/20\n",
      "388/388 [==============================] - 47s 120ms/step - loss: 0.0267 - accuracy: 0.9910 - val_loss: 0.0495 - val_accuracy: 0.9866\n",
      "Epoch 17/20\n",
      "388/388 [==============================] - 47s 120ms/step - loss: 0.0413 - accuracy: 0.9883 - val_loss: 0.0529 - val_accuracy: 0.9835\n",
      "Epoch 18/20\n",
      "388/388 [==============================] - 47s 121ms/step - loss: 0.0454 - accuracy: 0.9850 - val_loss: 0.0924 - val_accuracy: 0.9742\n",
      "Epoch 19/20\n",
      "388/388 [==============================] - 47s 122ms/step - loss: 0.0322 - accuracy: 0.9899 - val_loss: 0.0814 - val_accuracy: 0.9753\n",
      "Epoch 20/20\n",
      "388/388 [==============================] - 47s 122ms/step - loss: 0.0236 - accuracy: 0.9917 - val_loss: 0.0796 - val_accuracy: 0.9737\n"
     ]
    }
   ],
   "source": [
    "history1 = model.fit_generator(train_data_iterator, steps_per_epoch=388, validation_data=valid_data_iterator, validation_steps=97, epochs=20)\n",
    "\n",
    "# 학습시간이 대략 15분정도 걸렸기 때문에, 해당 예측 함수 모델을 저장함\n",
    "model.save('deeplearning_final_assignment.h5')"
   ]
  },
  {
   "cell_type": "code",
   "execution_count": 21,
   "metadata": {},
   "outputs": [
    {
     "name": "stdout",
     "output_type": "stream",
     "text": [
      "Found 2 images belonging to 4 classes.\n",
      "\n",
      "테스트 데이터 파일명 : ['healthy\\\\healthy1.jpg', 'healthy\\\\healthy2.jpg'] \n",
      "\n",
      "결과값(리스트)의 index에 대응되는 feature : {'Apple_scab': 0, 'Black_rot': 1, 'Cedar_apple_rust': 2, 'healthy': 3}\n"
     ]
    },
    {
     "data": {
      "text/plain": [
       "array([[0.012, 0.000, 0.961, 0.027],\n",
       "       [0.018, 0.000, 0.890, 0.092]], dtype=float32)"
      ]
     },
     "execution_count": 21,
     "metadata": {},
     "output_type": "execute_result"
    }
   ],
   "source": [
    "# 저장되어있는 예측 함수 모델을 불러옴\n",
    "model = load_model('deeplearning_final_assignment.h5')\n",
    "\n",
    "# predict에 따른 결과를 출력할 때, 출력된 확률들을 보기 좋게 만들도록 함(이 소스코드 때문에 확률들이 16진수로 표기되지 않음)\n",
    "np.set_printoptions(formatter={'float': lambda x: \"{0:0.3f}\".format(x)})\n",
    "\n",
    "# 경로 설정\n",
    "path_test = \"./new_plant_disease_dataset/test\"\n",
    "\n",
    "# test dataset에 대한 iterator 생성\n",
    "test_data_iterator = image_generator.flow_from_directory(path_test,target_size=(128,128),class_mode='categorical', batch_size = 1)\n",
    "\n",
    "# 예측 실시\n",
    "predict = model.predict_generator(test_data_iterator,steps = 2)\n",
    "print(\"\")\n",
    "print(\"테스트 데이터 파일명 :\", test_data_iterator.filenames, \"\\n\")\n",
    "print(\"결과값(리스트)의 index에 대응되는 feature :\", test_data_iterator.class_indices)\n",
    "predict"
   ]
  },
  {
   "cell_type": "markdown",
   "metadata": {},
   "source": [
    "# genereator를 사용하지 않은 모델"
   ]
  },
  {
   "cell_type": "code",
   "execution_count": 2,
   "metadata": {},
   "outputs": [],
   "source": [
    "# 기존 이미지들에 대해 리사이즈 실시\n",
    "train_scab = os.listdir(\"./new_plant_disease_dataset/train/Apple___Apple_scab\")\n",
    "train_black_rot = os.listdir(\"./new_plant_disease_dataset/train/Apple___Black_rot\")\n",
    "train_cedar_apple_rust = os.listdir(\"./new_plant_disease_dataset/train/Apple___Cedar_apple_rust\")\n",
    "train_healthy= os.listdir(\"./new_plant_disease_dataset/train/Apple___healthy\")\n",
    "\n",
    "valid_scab = os.listdir(\"./new_plant_disease_dataset/valid/Apple___Apple_scab\")\n",
    "valid_black_rot = os.listdir(\"./new_plant_disease_dataset/valid/Apple___Black_rot\")\n",
    "valid_cedar_apple_rust = os.listdir(\"./new_plant_disease_dataset/valid/Apple___Cedar_apple_rust\")\n",
    "valid_healthy= os.listdir(\"./new_plant_disease_dataset/valid/Apple___healthy\")\n",
    "\n",
    "# for i in train_scab:\n",
    "#     image = Image.open(\"C:/Users/my/Desktop/new_plant_disease_dataset/train/Apple___Apple_scab/\"+i)\n",
    "#     resize = image.resize((128,128))\n",
    "#     resize.save(\"C:/Users/my/Desktop/new_plant_disease_dataset/train/Apple___Apple_scab/\"+i+\".jpg\")\n",
    "    \n",
    "# for i in train_black_rot:\n",
    "#     image = Image.open(\"C:/Users/my/Desktop/new_plant_disease_dataset/train/Apple___Black_rot/\"+i)\n",
    "#     resize = image.resize((128,128))\n",
    "#     resize.save(\"C:/Users/my/Desktop/new_plant_disease_dataset/train/Apple___Black_rot/\"+i+\".jpg\")\n",
    "\n",
    "# for i in train_cedar_apple_rust:\n",
    "#     image = Image.open(\"C:/Users/my/Desktop/new_plant_disease_dataset/train/Apple___Cedar_apple_rust/\"+i)\n",
    "#     resize = image.resize((128,128))\n",
    "#     resize.save(\"C:/Users/my/Desktop/new_plant_disease_dataset/train/Apple___Cedar_apple_rust/\"+i+\".jpg\")\n",
    "    \n",
    "# for i in train_healthy:\n",
    "#     image = Image.open(\"C:/Users/my/Desktop/new_plant_disease_dataset/train/Apple___healthy/\"+i)\n",
    "#     resize = image.resize((128,128))\n",
    "#     resize.save(\"C:/Users/my/Desktop/new_plant_disease_dataset/train/Apple___healthy/\"+i+\".jpg\")\n",
    "\n",
    "# for i in valid_scab:\n",
    "#     image = Image.open(\"C:/Users/my/Desktop/new_plant_disease_dataset/valid/Apple___Apple_scab/\"+i)\n",
    "#     resize = image.resize((128,128))\n",
    "#     resize.save(\"C:/Users/my/Desktop/new_plant_disease_dataset/valid/Apple___Apple_scab/\"+i+\".jpg\")\n",
    "    \n",
    "# for i in valid_black_rot:\n",
    "#     image = Image.open(\"C:/Users/my/Desktop/new_plant_disease_dataset/valid/Apple___Black_rot/\"+i)\n",
    "#     resize = image.resize((128,128))\n",
    "#     resize.save(\"C:/Users/my/Desktop/new_plant_disease_dataset/valid/Apple___Black_rot/\"+i+\".jpg\")\n",
    "\n",
    "# for i in valid_cedar_apple_rust:\n",
    "#     image = Image.open(\"C:/Users/my/Desktop/new_plant_disease_dataset/valid/Apple___Cedar_apple_rust/\"+i)\n",
    "#     resize = image.resize((128,128))\n",
    "#     resize.save(\"C:/Users/my/Desktop/new_plant_disease_dataset/valid/Apple___Cedar_apple_rust/\"+i+\".jpg\")\n",
    "\n",
    "# for i in valid_healthy:\n",
    "#     image = Image.open(\"C:/Users/my/Desktop/new_plant_disease_dataset/valid/Apple___healthy/\"+i)\n",
    "#     resize = image.resize((128,128))\n",
    "#     resize.save(\"C:/Users/my/Desktop/new_plant_disease_dataset/valid/Apple___healthy/\"+i+\".jpg\")\n",
    "    \n",
    "# # 필요없는 사진 삭제\n",
    "# for i in valid_healthy:\n",
    "#     image = Image.open(\"C:/Users/my/Desktop/new_plant_disease_dataset/valid/Apple___healthy/\"+i)\n",
    "#     image_matrix = np.array(image)\n",
    "#     if image_matrix[0].shape == (256, 3):\n",
    "#         os.remove(\"C:/Users/my/Desktop/new_plant_disease_dataset/valid/Apple___healthy/\"+i)\n",
    "\n"
   ]
  },
  {
   "cell_type": "code",
   "execution_count": 3,
   "metadata": {},
   "outputs": [],
   "source": [
    "'''train_scab, train_black_rot, train_cedar_apple_rust, train_healthy'''\n",
    "\n",
    "# train_x_list와 train_y_list에 각각 이미지 행렬과 label을 append\n",
    "train_x_list = []\n",
    "train_y_list = []\n",
    "for i in range(len(train_scab)):\n",
    "    train_y_list.append(0)\n",
    "\n",
    "for i in train_scab:\n",
    "    image = Image.open(\"./new_plant_disease_dataset/train/Apple___Apple_scab/\"+i)\n",
    "    image_numpy_array = np.array(image)\n",
    "    train_x_list.append(image_numpy_array)\n",
    "    \n",
    "for i in range(len(train_black_rot)):\n",
    "    train_y_list.append(1)\n",
    "\n",
    "for i in train_black_rot:\n",
    "    image = Image.open(\"./new_plant_disease_dataset/train/Apple___Black_rot/\"+i)\n",
    "    image_numpy_array = np.array(image)\n",
    "    train_x_list.append(image_numpy_array)\n",
    "    \n",
    "for i in range(len(train_cedar_apple_rust)):\n",
    "    train_y_list.append(2)\n",
    "\n",
    "for i in train_cedar_apple_rust:\n",
    "    image = Image.open(\"./new_plant_disease_dataset/train/Apple___Cedar_apple_rust/\"+i)\n",
    "    image_numpy_array = np.array(image)\n",
    "    train_x_list.append(image_numpy_array)\n",
    "    \n",
    "for i in range(len(train_healthy)):\n",
    "    train_y_list.append(3)\n",
    "\n",
    "for i in train_healthy:\n",
    "    image = Image.open(\"./new_plant_disease_dataset/train/Apple___healthy/\"+i)\n",
    "    image_numpy_array = np.array(image)\n",
    "    train_x_list.append(image_numpy_array)\n",
    "\n",
    "train_x_list = np.array(train_x_list)\n",
    "train_y_list = np.array(train_y_list)"
   ]
  },
  {
   "cell_type": "code",
   "execution_count": 4,
   "metadata": {},
   "outputs": [],
   "source": [
    "# train_y_list를 categorical하게 변환\n",
    "from tensorflow.keras.utils import to_categorical\n",
    "\n",
    "train_y_list_hot = to_categorical(train_y_list)"
   ]
  },
  {
   "cell_type": "code",
   "execution_count": 5,
   "metadata": {},
   "outputs": [],
   "source": [
    "'''valid_scab, valid_black_rot,valid_cedar_apple_rust, valid_healthy'''\n",
    "\n",
    "# # valid_x_list와 valid_y_list에 각각 이미지 행렬과 label을 append\n",
    "valid_x_list = []\n",
    "valid_y_list = []\n",
    "\n",
    "for i in range(len(valid_scab)):\n",
    "    valid_y_list.append(0)\n",
    "    \n",
    "for i in valid_scab:\n",
    "    image = Image.open(\"./new_plant_disease_dataset/valid/Apple___Apple_scab/\"+i)\n",
    "    image_numpy_array = np.array(image)\n",
    "    valid_x_list.append(image_numpy_array)\n",
    "    \n",
    "for i in range(len(valid_black_rot)):\n",
    "    valid_y_list.append(1)\n",
    "    \n",
    "for i in valid_black_rot:\n",
    "    image = Image.open(\"./new_plant_disease_dataset/valid/Apple___Black_rot/\"+i)\n",
    "    image_numpy_array = np.array(image)\n",
    "    valid_x_list.append(image_numpy_array)\n",
    "\n",
    "for i in range(len(valid_cedar_apple_rust)):\n",
    "    valid_y_list.append(2)\n",
    "    \n",
    "for i in valid_cedar_apple_rust:\n",
    "    image = Image.open(\"./new_plant_disease_dataset/valid/Apple___Cedar_apple_rust/\"+i)\n",
    "    image_numpy_array = np.array(image)\n",
    "    valid_x_list.append(image_numpy_array)\n",
    "    \n",
    "for i in range(len(valid_healthy)):\n",
    "    valid_y_list.append(3)\n",
    "    \n",
    "for i in valid_healthy:\n",
    "    image = Image.open(\"./new_plant_disease_dataset/valid/Apple___healthy/\"+i)\n",
    "    image_numpy_array = np.array(image)\n",
    "    valid_x_list.append(image_numpy_array)\n",
    "\n",
    "valid_x_list = np.array(valid_x_list)\n",
    "valid_y_list = np.array(valid_y_list)"
   ]
  },
  {
   "cell_type": "code",
   "execution_count": 6,
   "metadata": {},
   "outputs": [],
   "source": [
    "#valid_y_list를 categorical하게 변환\n",
    "from tensorflow.keras.utils import to_categorical\n",
    "\n",
    "valid_y_list_hot = to_categorical(valid_y_list)"
   ]
  },
  {
   "cell_type": "code",
   "execution_count": 10,
   "metadata": {},
   "outputs": [
    {
     "name": "stdout",
     "output_type": "stream",
     "text": [
      "Epoch 1/100\n",
      "122/122 [==============================] - 3s 23ms/step - loss: 5.6250 - acc: 0.4137 - val_loss: 1.0145 - val_acc: 0.6166\n",
      "Epoch 2/100\n",
      "122/122 [==============================] - 3s 22ms/step - loss: 1.2532 - acc: 0.5589 - val_loss: 1.5333 - val_acc: 0.6516\n",
      "Epoch 3/100\n",
      "122/122 [==============================] - 3s 22ms/step - loss: 0.8451 - acc: 0.7099 - val_loss: 1.0944 - val_acc: 0.6814\n",
      "Epoch 4/100\n",
      "122/122 [==============================] - 3s 22ms/step - loss: 0.6259 - acc: 0.7843 - val_loss: 0.7764 - val_acc: 0.7751\n",
      "Epoch 5/100\n",
      "122/122 [==============================] - 3s 22ms/step - loss: 0.5259 - acc: 0.8286 - val_loss: 0.5826 - val_acc: 0.8096\n",
      "Epoch 6/100\n",
      "122/122 [==============================] - 3s 22ms/step - loss: 0.4543 - acc: 0.8520 - val_loss: 0.3519 - val_acc: 0.8646\n",
      "Epoch 7/100\n",
      "122/122 [==============================] - 3s 22ms/step - loss: 0.4313 - acc: 0.8713 - val_loss: 0.6695 - val_acc: 0.8327\n",
      "Epoch 8/100\n",
      "122/122 [==============================] - 3s 22ms/step - loss: 0.3375 - acc: 0.8909 - val_loss: 0.3636 - val_acc: 0.8950\n",
      "Epoch 9/100\n",
      "122/122 [==============================] - 3s 22ms/step - loss: 0.3940 - acc: 0.8875 - val_loss: 0.2908 - val_acc: 0.9254\n",
      "Epoch 10/100\n",
      "122/122 [==============================] - 3s 22ms/step - loss: 0.3569 - acc: 0.9007 - val_loss: 0.2354 - val_acc: 0.9238\n",
      "Epoch 11/100\n",
      "122/122 [==============================] - 3s 22ms/step - loss: 0.4002 - acc: 0.9012 - val_loss: 0.2332 - val_acc: 0.9295\n",
      "Epoch 12/100\n",
      "122/122 [==============================] - 3s 22ms/step - loss: 0.4239 - acc: 0.8940 - val_loss: 0.2190 - val_acc: 0.9382\n",
      "Epoch 13/100\n",
      "122/122 [==============================] - 3s 22ms/step - loss: 0.4615 - acc: 0.9036 - val_loss: 0.2465 - val_acc: 0.9326\n",
      "Epoch 14/100\n",
      "122/122 [==============================] - 3s 22ms/step - loss: 0.5381 - acc: 0.8709 - val_loss: 0.2525 - val_acc: 0.9161\n",
      "Epoch 15/100\n",
      "122/122 [==============================] - 3s 22ms/step - loss: 0.3574 - acc: 0.9010 - val_loss: 0.5183 - val_acc: 0.8780\n",
      "Epoch 16/100\n",
      "122/122 [==============================] - 3s 22ms/step - loss: 0.5195 - acc: 0.8750 - val_loss: 0.3122 - val_acc: 0.9326\n",
      "Epoch 17/100\n",
      "122/122 [==============================] - 3s 22ms/step - loss: 0.3356 - acc: 0.9080 - val_loss: 0.2569 - val_acc: 0.9269\n",
      "Epoch 18/100\n",
      "122/122 [==============================] - 3s 22ms/step - loss: 0.4558 - acc: 0.8933 - val_loss: 0.2625 - val_acc: 0.9346\n",
      "Epoch 19/100\n",
      "122/122 [==============================] - 3s 23ms/step - loss: 0.4037 - acc: 0.8973 - val_loss: 0.5953 - val_acc: 0.9074\n",
      "Epoch 20/100\n",
      "122/122 [==============================] - 3s 23ms/step - loss: 0.5222 - acc: 0.8797 - val_loss: 0.2572 - val_acc: 0.9444\n",
      "Epoch 21/100\n",
      "122/122 [==============================] - 3s 22ms/step - loss: 0.4390 - acc: 0.9019 - val_loss: 0.2846 - val_acc: 0.9418\n",
      "Epoch 22/100\n",
      "122/122 [==============================] - 3s 22ms/step - loss: 0.6884 - acc: 0.8990 - val_loss: 0.2901 - val_acc: 0.9315\n",
      "Epoch 23/100\n",
      "122/122 [==============================] - 3s 22ms/step - loss: 0.5392 - acc: 0.9194 - val_loss: 0.2688 - val_acc: 0.9388\n",
      "Epoch 24/100\n",
      "122/122 [==============================] - 3s 22ms/step - loss: 0.4327 - acc: 0.8973 - val_loss: 0.4643 - val_acc: 0.9125\n",
      "Epoch 25/100\n",
      "122/122 [==============================] - 3s 22ms/step - loss: 0.5416 - acc: 0.8811 - val_loss: 0.3020 - val_acc: 0.9058\n",
      "Epoch 26/100\n",
      "122/122 [==============================] - 3s 22ms/step - loss: 0.5464 - acc: 0.8889 - val_loss: 3.2079 - val_acc: 0.8837\n",
      "Epoch 27/100\n",
      "122/122 [==============================] - 3s 22ms/step - loss: 0.7467 - acc: 0.8868 - val_loss: 1.1858 - val_acc: 0.9156\n",
      "Epoch 00027: early stopping\n"
     ]
    }
   ],
   "source": [
    "# 예측 함수 모델 선언\n",
    "model2 = models.Sequential()\n",
    "\n",
    "# ConvNET\n",
    "model2.add(layers.Conv2D(32, (3, 3), input_shape = (128, 128, 3), activation = 'relu'))\n",
    "model2.add(layers.MaxPooling2D(pool_size = (2, 2)))\n",
    "\n",
    "model2.add(layers.Conv2D(64, (3, 3), activation = 'relu'))\n",
    "model2.add(layers.MaxPooling2D(pool_size = (2, 2)))\n",
    "\n",
    "model2.add(layers.Conv2D(64, (3, 3), activation = 'relu'))\n",
    "model2.add(layers.MaxPooling2D(pool_size = (2, 2)))\n",
    "\n",
    "# fully connected part\n",
    "model2.add(layers.Flatten())\n",
    "model2.add(layers.Dense(64, activation = 'relu'))\n",
    "model2.add(layers.Dropout(0.5))\n",
    "model2.add(layers.Dense(4, activation = 'softmax'))\n",
    "\n",
    "# cost function 설정 및 optimizer 설정\n",
    "model2.compile(loss='categorical_crossentropy', optimizer='rmsprop', metrics=['acc'])\n",
    "\n",
    "early_stopping = EarlyStopping(patience = 15, verbose=2)\n",
    "\n",
    "history2 = model2.fit(train_x_list, train_y_list_hot, epochs=100, batch_size = 64, validation_data = (valid_x_list, valid_y_list_hot), callbacks = [early_stopping])\n",
    "\n",
    "# 학습시간이 대략 15분정도 걸렸기 때문에, 해당 예측 함수 모델을 저장함\n",
    "model2.save('cnn_for_website.h5')"
   ]
  },
  {
   "cell_type": "code",
   "execution_count": 45,
   "metadata": {},
   "outputs": [
    {
     "name": "stdout",
     "output_type": "stream",
     "text": [
      "Model: \"sequential_2\"\n",
      "_________________________________________________________________\n",
      "Layer (type)                 Output Shape              Param #   \n",
      "=================================================================\n",
      "conv2d_6 (Conv2D)            (None, 126, 126, 32)      896       \n",
      "_________________________________________________________________\n",
      "max_pooling2d_6 (MaxPooling2 (None, 63, 63, 32)        0         \n",
      "_________________________________________________________________\n",
      "conv2d_7 (Conv2D)            (None, 61, 61, 64)        18496     \n",
      "_________________________________________________________________\n",
      "max_pooling2d_7 (MaxPooling2 (None, 30, 30, 64)        0         \n",
      "_________________________________________________________________\n",
      "conv2d_8 (Conv2D)            (None, 28, 28, 64)        36928     \n",
      "_________________________________________________________________\n",
      "max_pooling2d_8 (MaxPooling2 (None, 14, 14, 64)        0         \n",
      "_________________________________________________________________\n",
      "flatten_2 (Flatten)          (None, 12544)             0         \n",
      "_________________________________________________________________\n",
      "dense_4 (Dense)              (None, 64)                802880    \n",
      "_________________________________________________________________\n",
      "dropout_2 (Dropout)          (None, 64)                0         \n",
      "_________________________________________________________________\n",
      "dense_5 (Dense)              (None, 4)                 260       \n",
      "=================================================================\n",
      "Total params: 859,460\n",
      "Trainable params: 859,460\n",
      "Non-trainable params: 0\n",
      "_________________________________________________________________\n"
     ]
    }
   ],
   "source": [
    "model2.summary()"
   ]
  },
  {
   "cell_type": "code",
   "execution_count": 11,
   "metadata": {},
   "outputs": [
    {
     "data": {
      "image/png": "[encoded data removed]",
      "text/plain": [
       "<Figure size 432x288 with 1 Axes>"
      ]
     },
     "metadata": {
      "needs_background": "light"
     },
     "output_type": "display_data"
    },
    {
     "data": {
      "image/png": "[encoded data removed]",
      "text/plain": [
       "<Figure size 432x288 with 1 Axes>"
      ]
     },
     "metadata": {
      "needs_background": "light"
     },
     "output_type": "display_data"
    }
   ],
   "source": [
    "%matplotlib inline\n",
    "\n",
    "# loss와 validation 결과 plot\n",
    "train_acc = history2.history[\"acc\"]\n",
    "train_loss = history2.history[\"loss\"]\n",
    "val_acc = history2.history[\"val_acc\"]\n",
    "val_loss = history2.history[\"val_loss\"]\n",
    "\n",
    "epochs = list(range(1, len(train_acc) + 1))\n",
    "\n",
    "plt.title(\"Training and Validation loss\")\n",
    "plt.plot(epochs, train_loss, \"bo\", label = \"Training loss\")\n",
    "plt.plot(epochs, val_loss, \"b\", label = \"Validation loss\")\n",
    "plt.xlabel(\"epochs\")\n",
    "plt.ylabel(\"loss\")\n",
    "plt.legend()\n",
    "\n",
    "plt.figure()\n",
    "\n",
    "plt.title(\"Training and Valiation accuracy\")\n",
    "plt.plot(epochs, train_acc, \"bo\", label = \"Training accuracy\")\n",
    "plt.plot(epochs, val_acc, \"b\", label = \"Validation accuracy\")\n",
    "plt.xlabel(\"epochs\")\n",
    "plt.ylabel(\"accuracy\")\n",
    "plt.legend()\n",
    "\n",
    "plt.show()\n",
    "\n"
   ]
  },
  {
   "cell_type": "code",
   "execution_count": 41,
   "metadata": {
    "scrolled": true
   },
   "outputs": [
    {
     "name": "stdout",
     "output_type": "stream",
     "text": [
      "['./new_plant_disease_dataset/_test/AppleCedarRust1.JPG', './new_plant_disease_dataset/_test/AppleCedarRust2.JPG', './new_plant_disease_dataset/_test/AppleCedarRust3.JPG', './new_plant_disease_dataset/_test/AppleCedarRust4.JPG', './new_plant_disease_dataset/_test/AppleScab1.JPG', './new_plant_disease_dataset/_test/AppleScab2.JPG', './new_plant_disease_dataset/_test/AppleScab3.JPG'] \n",
      "\n",
      "./new_plant_disease_dataset/_test/AppleScab2.JPG \n",
      "\n",
      "<PIL.Image.Image image mode=RGB size=128x128 at 0x23F63E18048> \n",
      "\n",
      "[[[[123 136 168]\n",
      "   [122 135 167]\n",
      "   [121 134 166]\n",
      "   ...\n",
      "   [117 132 173]\n",
      "   [121 136 177]\n",
      "   [120 135 176]]\n",
      "\n",
      "  [[122 135 167]\n",
      "   [122 135 167]\n",
      "   [122 135 167]\n",
      "   ...\n",
      "   [118 133 174]\n",
      "   [119 134 175]\n",
      "   [114 129 170]]\n",
      "\n",
      "  [[121 134 166]\n",
      "   [122 135 167]\n",
      "   [122 135 167]\n",
      "   ...\n",
      "   [116 131 172]\n",
      "   [118 133 174]\n",
      "   [115 130 171]]\n",
      "\n",
      "  ...\n",
      "\n",
      "  [[105 120 161]\n",
      "   [106 121 162]\n",
      "   [103 118 159]\n",
      "   ...\n",
      "   [ 55  51  84]\n",
      "   [ 54  50  83]\n",
      "   [ 54  50  83]]\n",
      "\n",
      "  [[106 121 162]\n",
      "   [107 122 163]\n",
      "   [104 119 160]\n",
      "   ...\n",
      "   [ 52  49  80]\n",
      "   [ 47  44  75]\n",
      "   [ 47  44  75]]\n",
      "\n",
      "  [[107 122 163]\n",
      "   [108 123 164]\n",
      "   [106 121 162]\n",
      "   ...\n",
      "   [ 46  43  74]\n",
      "   [ 43  40  71]\n",
      "   [ 47  44  75]]]] \n",
      "\n",
      "(1, 128, 128, 3)\n"
     ]
    }
   ],
   "source": [
    "test = os.listdir(\"./new_plant_disease_dataset/_test\")\n",
    "test_image_list = []\n",
    "for i in test:\n",
    "    test_image_list.append(\"./new_plant_disease_dataset/_test/\" + i)\n",
    "print(test_image_list, \"\\n\")\n",
    "\n",
    "test_image = Image.open(test_image_list[5])\n",
    "print(test_image_list[5], \"\\n\")\n",
    "\n",
    "test_image = test_image.resize((128, 128))\n",
    "print(test_image, \"\\n\")\n",
    "test_image_np_array = np.array(test_image)\n",
    "test_image_np_array = test_image_np_array.reshape(1, 128, 128, 3)\n",
    "print(test_image_np_array, \"\\n\")\n",
    "\n",
    "print(test_image_np_array.shape)"
   ]
  },
  {
   "cell_type": "code",
   "execution_count": 42,
   "metadata": {},
   "outputs": [
    {
     "name": "stdout",
     "output_type": "stream",
     "text": [
      "[1.7528661189203376e-08, 1.281738610309394e-17, 8.149962421301216e-18, 1.0]\n"
     ]
    }
   ],
   "source": [
    "model2 = load_model('cnn_for_website.h5')\n",
    "result = model2.predict(test_image_np_array)\n",
    "result = result.tolist()\n",
    "result = result[0]\n",
    "print(result)"
   ]
  },
  {
   "cell_type": "code",
   "execution_count": 43,
   "metadata": {},
   "outputs": [
    {
     "name": "stdout",
     "output_type": "stream",
     "text": [
      "healthy\n"
     ]
    }
   ],
   "source": [
    "if result.index(max(result)) == 0:\n",
    "    result = \"apple scab\"\n",
    "elif result.index(max(result)) == 1:\n",
    "    result = \"black rot\"\n",
    "elif result.index(max(result)) == 2:\n",
    "    result = \"cedar apple rust\"\n",
    "else:\n",
    "    result = \"healthy\"\n",
    "    \n",
    "print(result)\n"
   ]
  }
 ],
 "metadata": {
  "kernelspec": {
   "display_name": "Python 3",
   "language": "python",
   "name": "python3"
  },
  "language_info": {
   "codemirror_mode": {
    "name": "ipython",
    "version": 3
   },
   "file_extension": ".py",
   "mimetype": "text/x-python",
   "name": "python",
   "nbconvert_exporter": "python",
   "pygments_lexer": "ipython3",
   "version": "3.7.1"
  }
 },
 "nbformat": 4,
 "nbformat_minor": 2
}
